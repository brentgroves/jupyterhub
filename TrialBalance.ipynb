{
 "cells": [
  {
   "cell_type": "code",
   "execution_count": 1,
   "id": "e9410b95-8415-448c-9e6e-d0c57da001c0",
   "metadata": {},
   "outputs": [
    {
     "name": "stdout",
     "output_type": "stream",
     "text": [
      "\n",
      "First Set of Results :\n",
      "----------------------\n",
      "\n",
      "PCN           :  123681\n",
      "period_key    :  45951\n",
      "period        :  202201\n",
      "period_display: 01-2022\n",
      "start date    : 2022-01-01 00:00:00\n",
      "end date      : 2022-01-31 23:59:59\n",
      "status        : 0\n",
      "add date      : 2022-03-27 14:43:49.060000000\n",
      "updated date  : 2022-03-27 14:44:00\n",
      "\n",
      "PCN           :  123681\n",
      "period_key    :  45952\n",
      "period        :  202202\n",
      "period_display: 02-2022\n",
      "start date    : 2022-02-01 00:00:00\n",
      "end date      : 2022-02-28 23:59:59\n",
      "status        : 0\n",
      "add date      : 2022-03-07 11:13:19\n",
      "updated date  : 2022-03-07 11:13:00\n",
      "\n",
      "PCN           :  123681\n",
      "period_key    :  45953\n",
      "period        :  202203\n",
      "period_display: 03-2022\n",
      "start date    : 2022-03-01 00:00:00\n",
      "end date      : 2022-03-31 23:59:59\n",
      "status        : 0\n",
      "add date      : 2022-04-08 14:09:33.417000000\n",
      "updated date  : 2022-04-08 14:10:00\n"
     ]
    }
   ],
   "source": [
    "import pyodbc \n",
    "# https://docs.microsoft.com/en-us/sql/connect/python/pyodbc/step-1-configure-development-environment-for-pyodbc-python-development?view=sql-server-ver15\n",
    "# docker run -it --name my-manim-container -v \"/home/bgroves@BUSCHE-CNC.COM/srcmanim:/manim\" manimcommunity/manim /bin/bash\n",
    "# Some other example server values are\n",
    "# server = 'localhost\\sqlexpress' # for a named instance\n",
    "# server = 'myserver,port' # to specify an alternate port\n",
    "# Function to display the contents of a record\n",
    "def printRec (rec):\n",
    "\n",
    "    print(\"\\nPCN           : \", rec[0])\n",
    "    print(\"period_key    : \",rec[1])          # Comma on end stops new line being output\n",
    "    print(\"period        : \",rec[2])          # Comma on end stops new line being output\n",
    "    # print(\"period_display: \",rec[3][0:10])\n",
    "    print(\"period_display: \", end ='')\n",
    "    if rec[3]!=None:\n",
    "        print(rec[3][0:10])\n",
    "    else:\n",
    "        print(\"-\")\n",
    "    print(\"start date    :\", rec[6])\n",
    "    print(\"end date      :\", rec[7])\n",
    "    print(\"status        :\", rec[8])\n",
    "    print(\"add date      :\", rec[9])\n",
    "    print(\"updated date  :\", rec[10])\n",
    "\n",
    "# MSSQLTest\n",
    "username = 'mg.odbcalbion' \n",
    "password = 'Mob3xalbion' \n",
    "sqlExecSP = \"call sproc300758_11728751_2059406 '123681',202201,202203\"\n",
    "cnxn = pyodbc.connect('DSN=Plex;UID='+username+';PWD='+ password)\n",
    "\n",
    "# server = 'tcp:mgsqlmi.public.48d444e7f69b.database.windows.net,3342' \n",
    "# database = 'mgdw' \n",
    "# username = 'mgadmin' \n",
    "# password = 'WeDontSharePasswords1!' \n",
    "#cnxn = pyodbc.connect('DRIVER={ODBC Driver 18 for SQL Server};SERVER='+server+';DATABASE='+database+';UID='+username+';PWD='+ password)\n",
    "# Call SP and trap Error if raised\n",
    "cursor = cnxn.cursor()\n",
    "\n",
    "try:\n",
    "    cursor.execute(sqlExecSP)\n",
    "except pyodbc.Error as e:\n",
    "    print('Error !!!!! %s') % e\n",
    "\n",
    "print(\"\\nFirst Set of Results :\")\n",
    "print(\"----------------------\")\n",
    "\n",
    "# Fetch all rowset from execute\n",
    "recs=cursor.fetchall()\n",
    "\n",
    "# Process each record individually\n",
    "for rec in recs:\n",
    "\tprintRec(rec)"
   ]
  },
  {
   "cell_type": "markdown",
   "id": "fd73029f-467b-4e5d-ad99-d00a7586a1e4",
   "metadata": {},
   "source": [
    "Added an update column from accounting_v_balance view to the accounting_period Mobex procedure.  This will allow us to know exactly what account period balance records need to be recalculated.  This will replace the brute force method of blindly updating the debit, credit, and ytd period record values for an entire year. "
   ]
  }
 ],
 "metadata": {
  "kernelspec": {
   "display_name": "Python 3 (ipykernel)",
   "language": "python",
   "name": "python3"
  },
  "language_info": {
   "codemirror_mode": {
    "name": "ipython",
    "version": 3
   },
   "file_extension": ".py",
   "mimetype": "text/x-python",
   "name": "python",
   "nbconvert_exporter": "python",
   "pygments_lexer": "ipython3",
   "version": "3.9.10"
  }
 },
 "nbformat": 4,
 "nbformat_minor": 5
}
