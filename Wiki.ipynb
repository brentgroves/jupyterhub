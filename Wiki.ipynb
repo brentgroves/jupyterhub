{
 "cells": [
  {
   "cell_type": "code",
   "execution_count": 13,
   "id": "567f5bf0-78a4-4669-b060-ae57ea4ec375",
   "metadata": {},
   "outputs": [
    {
     "name": "stdout",
     "output_type": "stream",
     "text": [
      "\n",
      "First Set of Results :\n",
      "----------------------\n",
      "wiki: JupyterHub\n",
      "topic: administra\n",
      "tags: JupyterHub\n",
      "Note: How to restart a container: docker start -a 221331c047c4\n",
      "The number after the -a is the container id that you can find by running the following command: docker container ls -a\n",
      "\n",
      "wiki: Goals\n",
      "topic: managing\n",
      "tags: goals,obje\n",
      "Note: I think an IS goals schema could be used to manage and report on goals that may not be practical by using the ADP software alone.\n",
      "If individuals help to maintain their own goal list we could all be more aware of an involved in the goal setting process.\n",
      "In addition to what is required by Mobex we could be collecting additional data such as how long it takes us to complete each step in the reporting process.\n",
      "Maintaining and updating a simple goal schema is not hard and it could be updated as much as needed so that we are collecting the data we want to report on.\n",
      "I think an added benefit is that, if we are more aware of our goals maybe we could be discussing updates to them throughout the year.\n",
      "If we get this going maybe next April the goal setting process would become so natural to us that it would be trivial to meet any Mobex deadlines.\n",
      "\n"
     ]
    }
   ],
   "source": [
    "import pyodbc \n",
    "# https://docs.microsoft.com/en-us/sql/connect/python/pyodbc/step-1-configure-development-environment-for-pyodbc-python-development?view=sql-server-ver15\n",
    "# docker run -it --name my-manim-container -v \"/home/bgroves@BUSCHE-CNC.COM/srcmanim:/manim\" manimcommunity/manim /bin/bash\n",
    "# Some other example server values are\n",
    "# server = 'localhost\\sqlexpress' # for a named instance\n",
    "# server = 'myserver,port' # to specify an alternate port\n",
    "# Function to display the contents of a record\n",
    "def printRec (rec):\n",
    "    print(\"wiki: \", end ='')\n",
    "    if rec[0]!=None:\n",
    "        print(rec[0][0:10])\n",
    "    else:\n",
    "        print(\"-\")\n",
    "    print(\"topic: \", end ='')\n",
    "    if rec[1]!=None:\n",
    "        print(rec[1][0:10])\n",
    "    else:\n",
    "        print(\"-\")\n",
    "    print(\"tags: \", end ='')\n",
    "    if rec[2]!=None:\n",
    "        print(rec[2][0:10])\n",
    "    else:\n",
    "        print(\"-\")\n",
    "    print(\"Note: \", end ='')\n",
    "    if rec[3]!=None:\n",
    "        print(rec[3])\n",
    "    else:\n",
    "        print(\"-\")\n",
    "    # print(\"period_key    : \",rec[1])          # Comma on end stops new line being output\n",
    "\n",
    "# data warehouse\n",
    "dsn = 'dw'\n",
    "username = 'mgadmin' \n",
    "password = 'WeDontSharePasswords1!' \n",
    "sqlExecSP = \"select * from Wiki.wiki_view\"\n",
    "cnxn = pyodbc.connect('DSN='+dsn+';UID='+username+';PWD='+ password)\n",
    "\n",
    "# server = 'tcp:mgsqlmi.public.48d444e7f69b.database.windows.net,3342' \n",
    "# database = 'mgdw' \n",
    "# username = 'mgadmin' \n",
    "# password = 'WeDontSharePasswords1!' \n",
    "#cnxn = pyodbc.connect('DRIVER={ODBC Driver 18 for SQL Server};SERVER='+server+';DATABASE='+database+';UID='+username+';PWD='+ password)\n",
    "# Call SP and trap Error if raised\n",
    "cursor = cnxn.cursor()\n",
    "\n",
    "try:\n",
    "    cursor.execute(sqlExecSP)\n",
    "except pyodbc.Error as e:\n",
    "    print('Error !!!!! %s') % e\n",
    "\n",
    "print(\"\\nFirst Set of Results :\")\n",
    "print(\"----------------------\")\n",
    "\n",
    "# Fetch all rowset from execute\n",
    "recs=cursor.fetchall()\n",
    "\n",
    "# Process each record individually\n",
    "for rec in recs:\n",
    "    printRec(rec)\n",
    "    print(\"\")"
   ]
  },
  {
   "cell_type": "code",
   "execution_count": null,
   "id": "3758e357-5ee2-4255-a1e3-64b79a9be0b9",
   "metadata": {},
   "outputs": [],
   "source": []
  },
  {
   "cell_type": "code",
   "execution_count": null,
   "id": "06e2b8bf-71dd-4018-ac99-7d00b6c4ef0c",
   "metadata": {},
   "outputs": [],
   "source": []
  }
 ],
 "metadata": {
  "kernelspec": {
   "display_name": "Python 3 (ipykernel)",
   "language": "python",
   "name": "python3"
  },
  "language_info": {
   "codemirror_mode": {
    "name": "ipython",
    "version": 3
   },
   "file_extension": ".py",
   "mimetype": "text/x-python",
   "name": "python",
   "nbconvert_exporter": "python",
   "pygments_lexer": "ipython3",
   "version": "3.9.10"
  }
 },
 "nbformat": 4,
 "nbformat_minor": 5
}
