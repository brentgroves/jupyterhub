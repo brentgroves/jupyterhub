{
 "cells": [
  {
   "cell_type": "code",
   "execution_count": 1,
   "id": "0a47cd2e-3d4e-4205-9ece-38c915098463",
   "metadata": {},
   "outputs": [],
   "source": [
    "# https://towardsdatascience.com/heres-how-to-run-sql-in-jupyter-notebooks-f26eb90f3259\n",
    "# https://www.sqlshack.com/learn-jupyter-notebooks-for-sql-server/\n",
    "import sqlalchemy\n",
    "\n",
    "# mssql+pyodbc://<username>:<password>@<dsnname>\n",
    "username = 'mgadmin' \n",
    "password = 'WeDontSharePasswords1!' \n",
    "\n",
    "engine = sqlalchemy.create_engine(\"mssql+pyodbc://\"+username+\":\"+password+\"@dw\")"
   ]
  },
  {
   "cell_type": "code",
   "execution_count": 2,
   "id": "a031b36a-4ecc-45b4-b6a6-15c7435b23fb",
   "metadata": {},
   "outputs": [],
   "source": [
    "%load_ext sql "
   ]
  },
  {
   "cell_type": "code",
   "execution_count": 3,
   "id": "7f50d643-3007-47dd-874f-8591b26f5949",
   "metadata": {},
   "outputs": [
    {
     "data": {
      "text/plain": [
       "'Connected: mgadmin@None'"
      ]
     },
     "execution_count": 3,
     "metadata": {},
     "output_type": "execute_result"
    }
   ],
   "source": [
    "%sql mssql+pyodbc://mgadmin:WeDontSharePasswords1!@dw"
   ]
  },
  {
   "cell_type": "code",
   "execution_count": 4,
   "id": "3b3fd928-538c-4a3a-bc7e-9e1f05f04fb6",
   "metadata": {},
   "outputs": [
    {
     "name": "stdout",
     "output_type": "stream",
     "text": [
      " * mssql+pyodbc://mgadmin:***@dw\n",
      "Done.\n"
     ]
    },
    {
     "data": {
      "text/html": [
       "<table>\n",
       "    <thead>\n",
       "        <tr>\n",
       "            <th>pcn</th>\n",
       "            <th>period_key</th>\n",
       "            <th>period</th>\n",
       "            <th>fiscal_order</th>\n",
       "            <th>begin_date</th>\n",
       "            <th>end_date</th>\n",
       "            <th>period_display</th>\n",
       "            <th>quarter_group</th>\n",
       "            <th>period_status</th>\n",
       "            <th>add_date</th>\n",
       "            <th>update_date</th>\n",
       "        </tr>\n",
       "    </thead>\n",
       "    <tbody>\n",
       "        <tr>\n",
       "            <td>123681</td>\n",
       "            <td>45758</td>\n",
       "            <td>200601</td>\n",
       "            <td>1</td>\n",
       "            <td>2006-01-01 00:00:00</td>\n",
       "            <td>2006-01-31 00:00:00</td>\n",
       "            <td>01-2006</td>\n",
       "            <td>1</td>\n",
       "            <td>0</td>\n",
       "            <td>1900-01-01 00:00:00</td>\n",
       "            <td>2009-09-02 16:13:00</td>\n",
       "        </tr>\n",
       "    </tbody>\n",
       "</table>"
      ],
      "text/plain": [
       "[(123681, 45758, 200601, 1, datetime.datetime(2006, 1, 1, 0, 0), datetime.datetime(2006, 1, 31, 0, 0), '01-2006', 1, 0, datetime.datetime(1900, 1, 1, 0, 0), datetime.datetime(2009, 9, 2, 16, 13))]"
      ]
     },
     "execution_count": 4,
     "metadata": {},
     "output_type": "execute_result"
    }
   ],
   "source": [
    "%%sql\n",
    "select *\n",
    "from Plex.accounting_period ap \n",
    "where period_key = 45758"
   ]
  },
  {
   "cell_type": "code",
   "execution_count": 6,
   "id": "5faeb20b-99b0-4746-87a3-60f34936c848",
   "metadata": {},
   "outputs": [
    {
     "name": "stdout",
     "output_type": "stream",
     "text": [
      " * mssql+pyodbc://mgadmin:***@dw\n",
      "Done.\n",
      "01-2006\n"
     ]
    }
   ],
   "source": [
    "pd = %sql select period_display from Plex.accounting_period ap  \n",
    "print(pd[0][0])"
   ]
  },
  {
   "cell_type": "code",
   "execution_count": 8,
   "id": "4cebc0c2-6302-426e-9c90-62a185964f77",
   "metadata": {},
   "outputs": [
    {
     "name": "stdout",
     "output_type": "stream",
     "text": [
      " * mssql+pyodbc://mgadmin:***@dw\n",
      "Done.\n"
     ]
    },
    {
     "data": {
      "text/html": [
       "<table>\n",
       "    <thead>\n",
       "        <tr>\n",
       "            <th>pcn</th>\n",
       "            <th>period_key</th>\n",
       "            <th>period</th>\n",
       "            <th>fiscal_order</th>\n",
       "            <th>begin_date</th>\n",
       "            <th>end_date</th>\n",
       "            <th>period_display</th>\n",
       "            <th>quarter_group</th>\n",
       "            <th>period_status</th>\n",
       "            <th>add_date</th>\n",
       "            <th>update_date</th>\n",
       "            <th>rownum</th>\n",
       "        </tr>\n",
       "    </thead>\n",
       "    <tbody>\n",
       "        <tr>\n",
       "            <td>123681</td>\n",
       "            <td>45758</td>\n",
       "            <td>200601</td>\n",
       "            <td>1</td>\n",
       "            <td>2006-01-01 00:00:00</td>\n",
       "            <td>2006-01-31 00:00:00</td>\n",
       "            <td>01-2006</td>\n",
       "            <td>1</td>\n",
       "            <td>0</td>\n",
       "            <td>1900-01-01 00:00:00</td>\n",
       "            <td>2009-09-02 16:13:00</td>\n",
       "            <td>1</td>\n",
       "        </tr>\n",
       "        <tr>\n",
       "            <td>123681</td>\n",
       "            <td>45759</td>\n",
       "            <td>200602</td>\n",
       "            <td>2</td>\n",
       "            <td>2006-02-01 00:00:00</td>\n",
       "            <td>2006-02-28 00:00:00</td>\n",
       "            <td>02-2006</td>\n",
       "            <td>1</td>\n",
       "            <td>0</td>\n",
       "            <td>1900-01-01 00:00:00</td>\n",
       "            <td>2009-09-02 16:13:00</td>\n",
       "            <td>2</td>\n",
       "        </tr>\n",
       "        <tr>\n",
       "            <td>123681</td>\n",
       "            <td>45760</td>\n",
       "            <td>200603</td>\n",
       "            <td>3</td>\n",
       "            <td>2006-03-01 00:00:00</td>\n",
       "            <td>2006-03-31 00:00:00</td>\n",
       "            <td>03-2006</td>\n",
       "            <td>1</td>\n",
       "            <td>0</td>\n",
       "            <td>1900-01-01 00:00:00</td>\n",
       "            <td>2009-09-02 16:13:00</td>\n",
       "            <td>3</td>\n",
       "        </tr>\n",
       "        <tr>\n",
       "            <td>123681</td>\n",
       "            <td>45761</td>\n",
       "            <td>200604</td>\n",
       "            <td>4</td>\n",
       "            <td>2006-04-01 00:00:00</td>\n",
       "            <td>2006-04-30 00:00:00</td>\n",
       "            <td>04-2006</td>\n",
       "            <td>2</td>\n",
       "            <td>0</td>\n",
       "            <td>1900-01-01 00:00:00</td>\n",
       "            <td>2009-09-02 16:13:00</td>\n",
       "            <td>4</td>\n",
       "        </tr>\n",
       "    </tbody>\n",
       "</table>"
      ],
      "text/plain": [
       "[(123681, 45758, 200601, 1, datetime.datetime(2006, 1, 1, 0, 0), datetime.datetime(2006, 1, 31, 0, 0), '01-2006', 1, 0, datetime.datetime(1900, 1, 1, 0, 0), datetime.datetime(2009, 9, 2, 16, 13), 1),\n",
       " (123681, 45759, 200602, 2, datetime.datetime(2006, 2, 1, 0, 0), datetime.datetime(2006, 2, 28, 0, 0), '02-2006', 1, 0, datetime.datetime(1900, 1, 1, 0, 0), datetime.datetime(2009, 9, 2, 16, 13), 2),\n",
       " (123681, 45760, 200603, 3, datetime.datetime(2006, 3, 1, 0, 0), datetime.datetime(2006, 3, 31, 0, 0), '03-2006', 1, 0, datetime.datetime(1900, 1, 1, 0, 0), datetime.datetime(2009, 9, 2, 16, 13), 3),\n",
       " (123681, 45761, 200604, 4, datetime.datetime(2006, 4, 1, 0, 0), datetime.datetime(2006, 4, 30, 0, 0), '04-2006', 2, 0, datetime.datetime(1900, 1, 1, 0, 0), datetime.datetime(2009, 9, 2, 16, 13), 4)]"
      ]
     },
     "execution_count": 8,
     "metadata": {},
     "output_type": "execute_result"
    }
   ],
   "source": [
    "%%sql\n",
    "with cte as \n",
    "(\n",
    "select *, row_number() over(order by period_key) as rownum \n",
    "from Plex.accounting_period\n",
    ")\n",
    "select * from cte\n",
    "where rownum < 5"
   ]
  },
  {
   "cell_type": "code",
   "execution_count": 9,
   "id": "b0b78763-e167-4dbd-bc84-1a2c991494e3",
   "metadata": {},
   "outputs": [
    {
     "name": "stdout",
     "output_type": "stream",
     "text": [
      " * mssql+pyodbc://mgadmin:***@dw\n",
      "Done.\n"
     ]
    }
   ],
   "source": [
    "result = %sql select * from Scratch.accounting_period"
   ]
  },
  {
   "cell_type": "code",
   "execution_count": 10,
   "id": "7a26d12e-436d-4f1e-bfa4-5a7f915bc041",
   "metadata": {},
   "outputs": [],
   "source": [
    "import pandas as pd\n",
    "df = result.DataFrame()"
   ]
  },
  {
   "cell_type": "code",
   "execution_count": 11,
   "id": "9d52fd4e-c9df-4712-89f1-0eaa6685a10a",
   "metadata": {},
   "outputs": [
    {
     "name": "stdout",
     "output_type": "stream",
     "text": [
      " * mssql+pyodbc://mgadmin:***@dw\n",
      "Done.\n"
     ]
    },
    {
     "data": {
      "text/plain": [
       "<BarContainer object of 5 artists>"
      ]
     },
     "execution_count": 11,
     "metadata": {},
     "output_type": "execute_result"
    },
    {
     "data": {
      "image/png": "[encoded data removed]",
      "text/plain": [
       "<Figure size 288x360 with 1 Axes>"
      ]
     },
     "metadata": {
      "needs_background": "light"
     },
     "output_type": "display_data"
    }
   ],
   "source": [
    "import matplotlib.pyplot as plt \n",
    "\n",
    "plt.figure(figsize=(4,5)) \n",
    "chart = %sql select category_type, sum(balance) balance, sum(ytd_balance) from Scratch.trial_balance group by category_type \n",
    "\n",
    "chart.bar()"
   ]
  },
  {
   "cell_type": "code",
   "execution_count": null,
   "id": "95ad75c0-e61d-42f6-9be4-2dc7209f4f29",
   "metadata": {},
   "outputs": [],
   "source": []
  }
 ],
 "metadata": {
  "kernelspec": {
   "display_name": "Python [conda env:etl]",
   "language": "python",
   "name": "conda-env-etl-py"
  },
  "language_info": {
   "codemirror_mode": {
    "name": "ipython",
    "version": 3
   },
   "file_extension": ".py",
   "mimetype": "text/x-python",
   "name": "python",
   "nbconvert_exporter": "python",
   "pygments_lexer": "ipython3",
   "version": "3.10.4"
  }
 },
 "nbformat": 4,
 "nbformat_minor": 5
}
